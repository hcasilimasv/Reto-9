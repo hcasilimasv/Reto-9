{
 "cells": [
  {
   "cell_type": "code",
   "execution_count": null,
   "metadata": {},
   "outputs": [],
   "source": [
    "cuad = lambda x: x ** 2\n",
    "for i in range(1, 101):\n",
    "    print(f\"Numero: {i}, Cuadrado: {cuad(i)}\")"
   ]
  },
  {
   "cell_type": "code",
   "execution_count": null,
   "metadata": {},
   "outputs": [],
   "source": [
    "factorial = (lambda f: lambda n: 1 if n == 0 else n * f(f)(n - 1))(lambda f: lambda n: 1 if n == 0 else n * f(f)(n - 1))\n",
    "n = int(input(\"Escriba un numero natural para calcular el factorial\"))\n",
    "if n >= 0:\n",
    "    fact = factorial(n)\n",
    "    print(\"El factorial de \" + str(n) + \" es: \" + str(fact))\n",
    "else:\n",
    "    print(\"Los numeros negativos no tienen factorial. Por favor, escriba un numero entero positivo\")"
   ]
  },
  {
   "cell_type": "code",
   "execution_count": null,
   "metadata": {},
   "outputs": [],
   "source": [
    "impr_div = lambda n: print(\"Los divisores de \" + str(n) + \" son:\\n\" + \"\\n\".join(str(div) for div in range(1, n + 1) if n % div == 0)) if 2 <= n <= 50 else print(\"El numero escrito no está dentro del rango\")\n",
    "n = int(input(\"Escriba un numero entre 2 y 50: \"))\n",
    "impr_div(n)"
   ]
  },
  {
   "cell_type": "code",
   "execution_count": null,
   "metadata": {},
   "outputs": [],
   "source": [
    "def impr_cuad(*args):\n",
    "    for n in args:\n",
    "        print(\"Numero \" + str(n) + \" , Cuadrado = \" + str(n * n))\n",
    "impr_cuad(*range(1, 101))"
   ]
  },
  {
   "cell_type": "code",
   "execution_count": null,
   "metadata": {},
   "outputs": [],
   "source": [
    "def cal_fact(*args):\n",
    "    for n in args:\n",
    "        if n >= 0:\n",
    "            fact = 1\n",
    "            cont = n\n",
    "            while cont > 0:\n",
    "                fact *= cont\n",
    "                cont -= 1\n",
    "            print(\"El factorial de \" + str(n) + \" es: \" + str(fact))\n",
    "        else:\n",
    "            print(\"Los numeros negativos no tienen factorial, escriba un entero positivo\")\n",
    "num = [int(input(\"Escriba un numero natural para calcular el factorial\"))]\n",
    "cal_fact(*num)"
   ]
  },
  {
   "cell_type": "code",
   "execution_count": null,
   "metadata": {},
   "outputs": [],
   "source": [
    "def pot(x, n):\n",
    "    exp = 1\n",
    "    for _ in range(n):\n",
    "        exp *= x\n",
    "    return exp\n",
    "cal_pot = lambda *args: pot(*args)\n",
    "x = float(input(\"Escriba un numero real\"))\n",
    "n = int(input(\"Escriba un numero natural\"))\n",
    "resultado = cal_pot(x, n)\n",
    "print(\"El resultado de \" + str(x) + \" elevado a \" + str(n) + \" es \" + str(resultado))"
   ]
  },
  {
   "cell_type": "code",
   "execution_count": null,
   "metadata": {},
   "outputs": [],
   "source": [
    "def pot(x, n):\n",
    "    if n == 0:\n",
    "        return 1\n",
    "    elif n > 0:\n",
    "        return x * pot(x, n - 1)\n",
    "    else:\n",
    "        return 1 / pot(x, -n)\n",
    "bas = float(input(\"Escriba la base del numero \"))\n",
    "exp = int(input(\"Escriba el exponente del numero\"))\n",
    "resul = pot(bas, exp)\n",
    "print(f\"{bas} elevado a la {exp} es igual a {resul}\")"
   ]
  },
  {
   "cell_type": "code",
   "execution_count": null,
   "metadata": {},
   "outputs": [],
   "source": [
    "import time\n",
    "def fibonacci_it(n):\n",
    "    if n <= 0:\n",
    "        return 0\n",
    "    elif n == 1:\n",
    "        return 1\n",
    "    else:\n",
    "        a, b = 0, 1\n",
    "        for _ in range(2, n + 1):\n",
    "            a, b = b, a + b\n",
    "        return b\n",
    "def fibonacci_re(n):\n",
    "    if n <= 0:\n",
    "        return 0\n",
    "    elif n == 1:\n",
    "        return 1\n",
    "    else:\n",
    "        return fibonacci_re(n - 1) + fibonacci_re(n - 2)\n",
    "n = int(input(\"Ingrese el número de la serie de Fibonacci que desea calcular: \"))\n",
    "start_time = time.time()\n",
    "fib_iter_result = fibonacci_it(n)\n",
    "end_time = time.time()\n",
    "iterative_timer = end_time - start_time\n",
    "print(\"Tiempo en ejecutar (iterativo):\", iterative_timer)\n",
    "start_time = time.time()\n",
    "fib_rec_result = fibonacci_re(n)\n",
    "end_time = time.time()\n",
    "recursive_timer = end_time - start_time\n",
    "print(\"Tiempo en ejecutar (recursivo):\", recursive_timer)\n",
    "print(\"Fibonacci resultado (iterativo):\", fib_iter_result)\n",
    "print(\"Fibonacci resultado (recursivo):\", fib_rec_result)"
   ]
  }
 ],
 "metadata": {
  "kernelspec": {
   "display_name": "Python 3",
   "language": "python",
   "name": "python3"
  },
  "language_info": {
   "codemirror_mode": {
    "name": "ipython",
    "version": 3
   },
   "file_extension": ".py",
   "mimetype": "text/x-python",
   "name": "python",
   "nbconvert_exporter": "python",
   "pygments_lexer": "ipython3",
   "version": "3.11.8"
  }
 },
 "nbformat": 4,
 "nbformat_minor": 2
}
